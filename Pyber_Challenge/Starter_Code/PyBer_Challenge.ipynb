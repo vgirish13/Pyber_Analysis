{
 "cells": [
  {
   "cell_type": "markdown",
   "metadata": {},
   "source": [
    "# Pyber Challenge"
   ]
  },
  {
   "cell_type": "markdown",
   "metadata": {},
   "source": [
    "### 4.3 Loading and Reading CSV files"
   ]
  },
  {
   "cell_type": "code",
   "execution_count": 2,
   "metadata": {},
   "outputs": [
    {
     "name": "stdout",
     "output_type": "stream",
     "text": [
      "                city  driver_count   type\n",
      "0        Richardfort            38  Urban\n",
      "1       Williamsstad            59  Urban\n",
      "2        Port Angela            67  Urban\n",
      "3         Rodneyfort            34  Urban\n",
      "4        West Robert            39  Urban\n",
      "..               ...           ...    ...\n",
      "115     Bradshawfurt             7  Rural\n",
      "116     New Ryantown             2  Rural\n",
      "117   Randallchester             9  Rural\n",
      "118      Jessicaport             1  Rural\n",
      "119  South Saramouth             7  Rural\n",
      "\n",
      "[120 rows x 3 columns]\n"
     ]
    }
   ],
   "source": [
    "# Add Matplotlib inline magic command\n",
    "%matplotlib inline\n",
    "# Dependencies and Setup\n",
    "import matplotlib.pyplot as plt\n",
    "import pandas as pd\n",
    "\n",
    "# File to Load (Remember to check these)\n",
    "city = \"city_data.csv\"\n",
    "ride = \"ride_data.csv\"\n",
    "\n",
    "# Read the City and Ride Data\n",
    "city_df = pd.read_csv(city)\n",
    "ride_df = pd.read_csv(ride)\n",
    "print(city_df)\n"
   ]
  },
  {
   "cell_type": "markdown",
   "metadata": {},
   "source": [
    "### Merge the DataFrames"
   ]
  },
  {
   "cell_type": "code",
   "execution_count": 3,
   "metadata": {
    "scrolled": true
   },
   "outputs": [
    {
     "data": {
      "text/html": [
       "<div>\n",
       "<style scoped>\n",
       "    .dataframe tbody tr th:only-of-type {\n",
       "        vertical-align: middle;\n",
       "    }\n",
       "\n",
       "    .dataframe tbody tr th {\n",
       "        vertical-align: top;\n",
       "    }\n",
       "\n",
       "    .dataframe thead th {\n",
       "        text-align: right;\n",
       "    }\n",
       "</style>\n",
       "<table border=\"1\" class=\"dataframe\">\n",
       "  <thead>\n",
       "    <tr style=\"text-align: right;\">\n",
       "      <th></th>\n",
       "      <th>city</th>\n",
       "      <th>date</th>\n",
       "      <th>fare</th>\n",
       "      <th>ride_id</th>\n",
       "      <th>driver_count</th>\n",
       "      <th>type</th>\n",
       "    </tr>\n",
       "  </thead>\n",
       "  <tbody>\n",
       "    <tr>\n",
       "      <th>0</th>\n",
       "      <td>Lake Jonathanshire</td>\n",
       "      <td>2019-01-14 10:14:22</td>\n",
       "      <td>13.83</td>\n",
       "      <td>5739410935873</td>\n",
       "      <td>5</td>\n",
       "      <td>Urban</td>\n",
       "    </tr>\n",
       "    <tr>\n",
       "      <th>1</th>\n",
       "      <td>South Michelleport</td>\n",
       "      <td>2019-03-04 18:24:09</td>\n",
       "      <td>30.24</td>\n",
       "      <td>2343912425577</td>\n",
       "      <td>72</td>\n",
       "      <td>Urban</td>\n",
       "    </tr>\n",
       "    <tr>\n",
       "      <th>2</th>\n",
       "      <td>Port Samanthamouth</td>\n",
       "      <td>2019-02-24 04:29:00</td>\n",
       "      <td>33.44</td>\n",
       "      <td>2005065760003</td>\n",
       "      <td>57</td>\n",
       "      <td>Urban</td>\n",
       "    </tr>\n",
       "    <tr>\n",
       "      <th>3</th>\n",
       "      <td>Rodneyfort</td>\n",
       "      <td>2019-02-10 23:22:03</td>\n",
       "      <td>23.44</td>\n",
       "      <td>5149245426178</td>\n",
       "      <td>34</td>\n",
       "      <td>Urban</td>\n",
       "    </tr>\n",
       "    <tr>\n",
       "      <th>4</th>\n",
       "      <td>South Jack</td>\n",
       "      <td>2019-03-06 04:28:35</td>\n",
       "      <td>34.58</td>\n",
       "      <td>3908451377344</td>\n",
       "      <td>46</td>\n",
       "      <td>Urban</td>\n",
       "    </tr>\n",
       "  </tbody>\n",
       "</table>\n",
       "</div>"
      ],
      "text/plain": [
       "                 city                 date   fare        ride_id  \\\n",
       "0  Lake Jonathanshire  2019-01-14 10:14:22  13.83  5739410935873   \n",
       "1  South Michelleport  2019-03-04 18:24:09  30.24  2343912425577   \n",
       "2  Port Samanthamouth  2019-02-24 04:29:00  33.44  2005065760003   \n",
       "3          Rodneyfort  2019-02-10 23:22:03  23.44  5149245426178   \n",
       "4          South Jack  2019-03-06 04:28:35  34.58  3908451377344   \n",
       "\n",
       "   driver_count   type  \n",
       "0             5  Urban  \n",
       "1            72  Urban  \n",
       "2            57  Urban  \n",
       "3            34  Urban  \n",
       "4            46  Urban  "
      ]
     },
     "execution_count": 3,
     "metadata": {},
     "output_type": "execute_result"
    }
   ],
   "source": [
    "# Combine the data into a single dataset\n",
    "pyber_data_df = pd.merge(ride_df, city_df, how=\"left\", on=[\"city\", \"city\"])\n",
    "\n",
    "# Display the data table for preview\n",
    "pyber_data_df.head()"
   ]
  },
  {
   "cell_type": "markdown",
   "metadata": {},
   "source": [
    "## Challenge Deliverable 1. Generate a Ride-Sharing DataFrame by City Type"
   ]
  },
  {
   "cell_type": "code",
   "execution_count": 4,
   "metadata": {},
   "outputs": [
    {
     "name": "stdout",
     "output_type": "stream",
     "text": [
      "          city  date  fare  ride_id  driver_count\n",
      "type                                             \n",
      "Rural      125   125   125      125           125\n",
      "Suburban   625   625   625      625           625\n",
      "Urban     1625  1625  1625     1625          1625\n"
     ]
    }
   ],
   "source": [
    "#  1. Get the total rides for each city type\n",
    "x = pyber_data_df.groupby('type')\n",
    "print(x.count())\n",
    "totalRides = ['1625', '625', '125']\n",
    "    "
   ]
  },
  {
   "cell_type": "code",
   "execution_count": 5,
   "metadata": {},
   "outputs": [
    {
     "name": "stdout",
     "output_type": "stream",
     "text": [
      "total number of drivers in Urban areas: 2405\n",
      "total number of drivers in Suburban areas: 490\n",
      "total number of drivers in Rurual areas: 78\n",
      "[2405, 490, 78]\n"
     ]
    }
   ],
   "source": [
    "\n",
    "# 2. Get the total drivers for each city type\n",
    "totalDrivers = []\n",
    "\n",
    "urban = city_df.loc[city_df['type'] == 'Urban']\n",
    "driverUrban = sum(urban['driver_count'])\n",
    "totalDrivers.append(driverUrban)\n",
    "\n",
    "sub = city_df.loc[city_df['type'] == 'Suburban']\n",
    "driverSub = sum(sub['driver_count'])\n",
    "totalDrivers.append(driverSub)\n",
    "\n",
    "rural = city_df.loc[city_df['type'] == \"Rural\"]\n",
    "driverRural = sum(rural['driver_count'])\n",
    "totalDrivers.append(driverRural)\n",
    "\n",
    "print(\"total number of drivers in Urban areas: \" + str(driverUrban))\n",
    "print(\"total number of drivers in Suburban areas: \" + str(driverSub))\n",
    "print(\"total number of drivers in Rurual areas: \" + str(driverRural))\n",
    "print(totalDrivers)\n"
   ]
  },
  {
   "cell_type": "code",
   "execution_count": 6,
   "metadata": {},
   "outputs": [
    {
     "name": "stdout",
     "output_type": "stream",
     "text": [
      "total number of fare in Urban areas: 39854.380000000085\n",
      "total number of fare in Suburban areas: 19356.330000000013\n",
      "total number of fare in Rurual areas: 4327.930000000002\n",
      "[39854.380000000085, 19356.330000000013, 4327.930000000002]\n"
     ]
    }
   ],
   "source": [
    "#  3. Get the total amount of fares for each city type\n",
    "totalFares = []\n",
    "urban = pyber_data_df.loc[pyber_data_df['type'] == 'Urban']\n",
    "j = sum(urban['fare'])\n",
    "totalFares.append(j)\n",
    "sub = pyber_data_df.loc[pyber_data_df['type'] == 'Suburban']\n",
    "x = sum(sub['fare'])\n",
    "totalFares.append(x)\n",
    "rural = pyber_data_df.loc[pyber_data_df['type'] == \"Rural\"]\n",
    "h = sum(rural['fare'])\n",
    "totalFares.append(h)\n",
    "print(\"total number of fare in Urban areas: \" + str(j))\n",
    "print(\"total number of fare in Suburban areas: \" + str(x))\n",
    "print(\"total number of fare in Rurual areas: \" + str(h))\n",
    "print(totalFares)"
   ]
  },
  {
   "cell_type": "code",
   "execution_count": 7,
   "metadata": {},
   "outputs": [
    {
     "name": "stdout",
     "output_type": "stream",
     "text": [
      "Average fare in Urban areas: 24.52577230769236\n",
      "Average fare in Suburban areas: 30.97012800000002\n",
      "Average fare in Rurual areas: 34.623440000000016\n",
      "[24.52577230769236, 30.97012800000002, 34.623440000000016]\n"
     ]
    }
   ],
   "source": [
    "#  4. Get the average fare per ride for each city type. \n",
    "averageFare = []\n",
    "urban = pyber_data_df.loc[pyber_data_df['type'] == 'Urban']\n",
    "j = sum(urban['fare'])/len(urban['fare'])\n",
    "averageFare.append(j)\n",
    "sub = pyber_data_df.loc[pyber_data_df['type'] == 'Suburban']\n",
    "x = sum(sub['fare'])/len(sub['fare'])\n",
    "averageFare.append(x)\n",
    "rural = pyber_data_df.loc[pyber_data_df['type'] == \"Rural\"]\n",
    "h = sum(rural['fare'])/len(rural['fare'])\n",
    "averageFare.append(h)\n",
    "print(\"Average fare in Urban areas: \" + str(j))\n",
    "print(\"Average fare in Suburban areas: \" + str(x))\n",
    "print(\"Average fare in Rurual areas: \" + str(h))\n",
    "print(averageFare)"
   ]
  },
  {
   "cell_type": "code",
   "execution_count": 8,
   "metadata": {},
   "outputs": [
    {
     "name": "stdout",
     "output_type": "stream",
     "text": [
      "Average Fare per Driverin Urban areas: 16.57146777546781\n",
      "Average Fare per Driver in Suburban areas: 39.50271428571431\n",
      "Average Fare per Driver in Rurual areas: 55.48628205128208\n",
      "[16.57146777546781, 39.50271428571431, 55.48628205128208]\n"
     ]
    }
   ],
   "source": [
    "# 5. Get the average fare per driver for each city type. \n",
    "\n",
    "avgFareDriver = []\n",
    "urban = pyber_data_df.loc[pyber_data_df['type'] == 'Urban']\n",
    "j = sum(urban['fare'])/driverUrban\n",
    "avgFareDriver.append(j)\n",
    "sub = pyber_data_df.loc[pyber_data_df['type'] == 'Suburban']\n",
    "x = sum(sub['fare'])/driverSub\n",
    "avgFareDriver.append(x)\n",
    "rural = pyber_data_df.loc[pyber_data_df['type'] == \"Rural\"]\n",
    "h = sum(rural['fare'])/driverRural\n",
    "avgFareDriver.append(h)\n",
    "print(\"Average Fare per Driverin Urban areas: \" + str(j))\n",
    "print(\"Average Fare per Driver in Suburban areas: \" + str(x))\n",
    "print(\"Average Fare per Driver in Rurual areas: \" + str(h))\n",
    "print(avgFareDriver)"
   ]
  },
  {
   "cell_type": "code",
   "execution_count": 9,
   "metadata": {},
   "outputs": [
    {
     "data": {
      "text/html": [
       "<div>\n",
       "<style scoped>\n",
       "    .dataframe tbody tr th:only-of-type {\n",
       "        vertical-align: middle;\n",
       "    }\n",
       "\n",
       "    .dataframe tbody tr th {\n",
       "        vertical-align: top;\n",
       "    }\n",
       "\n",
       "    .dataframe thead th {\n",
       "        text-align: right;\n",
       "    }\n",
       "</style>\n",
       "<table border=\"1\" class=\"dataframe\">\n",
       "  <thead>\n",
       "    <tr style=\"text-align: right;\">\n",
       "      <th></th>\n",
       "      <th>Total Rides</th>\n",
       "      <th>Total Drivers</th>\n",
       "      <th>Total Fares</th>\n",
       "      <th>Average Fare per Ride</th>\n",
       "      <th>Average Fare per Driver</th>\n",
       "    </tr>\n",
       "    <tr>\n",
       "      <th></th>\n",
       "      <th></th>\n",
       "      <th></th>\n",
       "      <th></th>\n",
       "      <th></th>\n",
       "      <th></th>\n",
       "    </tr>\n",
       "  </thead>\n",
       "  <tbody>\n",
       "    <tr>\n",
       "      <th>Urban</th>\n",
       "      <td>1625</td>\n",
       "      <td>2405</td>\n",
       "      <td>39854.38</td>\n",
       "      <td>24.525772</td>\n",
       "      <td>16.571468</td>\n",
       "    </tr>\n",
       "    <tr>\n",
       "      <th>Suburban</th>\n",
       "      <td>625</td>\n",
       "      <td>490</td>\n",
       "      <td>19356.33</td>\n",
       "      <td>30.970128</td>\n",
       "      <td>39.502714</td>\n",
       "    </tr>\n",
       "    <tr>\n",
       "      <th>Rural</th>\n",
       "      <td>125</td>\n",
       "      <td>78</td>\n",
       "      <td>4327.93</td>\n",
       "      <td>34.623440</td>\n",
       "      <td>55.486282</td>\n",
       "    </tr>\n",
       "  </tbody>\n",
       "</table>\n",
       "</div>"
      ],
      "text/plain": [
       "         Total Rides  Total Drivers  Total Fares  Average Fare per Ride  \\\n",
       "                                                                          \n",
       "Urban           1625           2405     39854.38              24.525772   \n",
       "Suburban         625            490     19356.33              30.970128   \n",
       "Rural            125             78      4327.93              34.623440   \n",
       "\n",
       "          Average Fare per Driver  \n",
       "                                   \n",
       "Urban                   16.571468  \n",
       "Suburban                39.502714  \n",
       "Rural                   55.486282  "
      ]
     },
     "execution_count": 9,
     "metadata": {},
     "output_type": "execute_result"
    }
   ],
   "source": [
    "#  6. Create a PyBer summary DataFrame. \n",
    "# AND\n",
    "#  7. Cleaning up the DataFrame. Delete the index name\n",
    "cityType = [\"Urban\", 'Suburban', 'Rural']\n",
    "sumdf = pd.DataFrame({'':cityType})\n",
    "sumdf['Total Rides'] = totalRides\n",
    "sumdf['Total Drivers'] = totalDrivers\n",
    "sumdf['Total Fares'] = totalFares\n",
    "sumdf['Average Fare per Ride'] = averageFare\n",
    "sumdf['Average Fare per Driver'] = avgFareDriver\n",
    "sumdf.set_index('', inplace=True)\n",
    "sumdf"
   ]
  },
  {
   "cell_type": "code",
   "execution_count": null,
   "metadata": {},
   "outputs": [],
   "source": []
  },
  {
   "cell_type": "code",
   "execution_count": 10,
   "metadata": {},
   "outputs": [
    {
     "data": {
      "text/html": [
       "<div>\n",
       "<style scoped>\n",
       "    .dataframe tbody tr th:only-of-type {\n",
       "        vertical-align: middle;\n",
       "    }\n",
       "\n",
       "    .dataframe tbody tr th {\n",
       "        vertical-align: top;\n",
       "    }\n",
       "\n",
       "    .dataframe thead th {\n",
       "        text-align: right;\n",
       "    }\n",
       "</style>\n",
       "<table border=\"1\" class=\"dataframe\">\n",
       "  <thead>\n",
       "    <tr style=\"text-align: right;\">\n",
       "      <th></th>\n",
       "      <th>Total Rides</th>\n",
       "      <th>Total Drivers</th>\n",
       "      <th>Total Fares</th>\n",
       "      <th>Average Fare per Ride</th>\n",
       "      <th>Average Fare per Driver</th>\n",
       "    </tr>\n",
       "    <tr>\n",
       "      <th></th>\n",
       "      <th></th>\n",
       "      <th></th>\n",
       "      <th></th>\n",
       "      <th></th>\n",
       "      <th></th>\n",
       "    </tr>\n",
       "  </thead>\n",
       "  <tbody>\n",
       "    <tr>\n",
       "      <th>Urban</th>\n",
       "      <td>1625</td>\n",
       "      <td>2405</td>\n",
       "      <td>$39,854.38</td>\n",
       "      <td>$24.53</td>\n",
       "      <td>$16.57</td>\n",
       "    </tr>\n",
       "    <tr>\n",
       "      <th>Suburban</th>\n",
       "      <td>625</td>\n",
       "      <td>490</td>\n",
       "      <td>$19,356.33</td>\n",
       "      <td>$30.97</td>\n",
       "      <td>$39.5</td>\n",
       "    </tr>\n",
       "    <tr>\n",
       "      <th>Rural</th>\n",
       "      <td>125</td>\n",
       "      <td>78</td>\n",
       "      <td>$4,327.93</td>\n",
       "      <td>$34.62</td>\n",
       "      <td>$55.49</td>\n",
       "    </tr>\n",
       "  </tbody>\n",
       "</table>\n",
       "</div>"
      ],
      "text/plain": [
       "         Total Rides  Total Drivers  Total Fares  Average Fare per Ride  \\\n",
       "                                                                          \n",
       "Urban           1625           2405   $39,854.38                 $24.53   \n",
       "Suburban         625            490   $19,356.33                 $30.97   \n",
       "Rural            125             78    $4,327.93                 $34.62   \n",
       "\n",
       "          Average Fare per Driver  \n",
       "                                   \n",
       "Urban                      $16.57  \n",
       "Suburban                    $39.5  \n",
       "Rural                      $55.49  "
      ]
     },
     "execution_count": 10,
     "metadata": {},
     "output_type": "execute_result"
    }
   ],
   "source": [
    "#  8. Format the columns.\n",
    "sumdf.astype(float)\n",
    "newsumdf = sumdf.round(decimals = 2)\n",
    "pd.options.display.float_format = \"${:,}\".format\n",
    "newsumdf"
   ]
  },
  {
   "cell_type": "markdown",
   "metadata": {},
   "source": [
    "## Deliverable 2.  Create a multiple line plot that shows the total weekly of the fares for each type of city."
   ]
  },
  {
   "cell_type": "code",
   "execution_count": 11,
   "metadata": {},
   "outputs": [
    {
     "data": {
      "text/html": [
       "<div>\n",
       "<style scoped>\n",
       "    .dataframe tbody tr th:only-of-type {\n",
       "        vertical-align: middle;\n",
       "    }\n",
       "\n",
       "    .dataframe tbody tr th {\n",
       "        vertical-align: top;\n",
       "    }\n",
       "\n",
       "    .dataframe thead th {\n",
       "        text-align: right;\n",
       "    }\n",
       "</style>\n",
       "<table border=\"1\" class=\"dataframe\">\n",
       "  <thead>\n",
       "    <tr style=\"text-align: right;\">\n",
       "      <th></th>\n",
       "      <th>city</th>\n",
       "      <th>date</th>\n",
       "      <th>fare</th>\n",
       "      <th>ride_id</th>\n",
       "      <th>driver_count</th>\n",
       "      <th>type</th>\n",
       "    </tr>\n",
       "  </thead>\n",
       "  <tbody>\n",
       "    <tr>\n",
       "      <th>0</th>\n",
       "      <td>Lake Jonathanshire</td>\n",
       "      <td>2019-01-14 10:14:22</td>\n",
       "      <td>$13.83</td>\n",
       "      <td>5739410935873</td>\n",
       "      <td>5</td>\n",
       "      <td>Urban</td>\n",
       "    </tr>\n",
       "    <tr>\n",
       "      <th>1</th>\n",
       "      <td>South Michelleport</td>\n",
       "      <td>2019-03-04 18:24:09</td>\n",
       "      <td>$30.24</td>\n",
       "      <td>2343912425577</td>\n",
       "      <td>72</td>\n",
       "      <td>Urban</td>\n",
       "    </tr>\n",
       "    <tr>\n",
       "      <th>2</th>\n",
       "      <td>Port Samanthamouth</td>\n",
       "      <td>2019-02-24 04:29:00</td>\n",
       "      <td>$33.44</td>\n",
       "      <td>2005065760003</td>\n",
       "      <td>57</td>\n",
       "      <td>Urban</td>\n",
       "    </tr>\n",
       "    <tr>\n",
       "      <th>3</th>\n",
       "      <td>Rodneyfort</td>\n",
       "      <td>2019-02-10 23:22:03</td>\n",
       "      <td>$23.44</td>\n",
       "      <td>5149245426178</td>\n",
       "      <td>34</td>\n",
       "      <td>Urban</td>\n",
       "    </tr>\n",
       "    <tr>\n",
       "      <th>4</th>\n",
       "      <td>South Jack</td>\n",
       "      <td>2019-03-06 04:28:35</td>\n",
       "      <td>$34.58</td>\n",
       "      <td>3908451377344</td>\n",
       "      <td>46</td>\n",
       "      <td>Urban</td>\n",
       "    </tr>\n",
       "  </tbody>\n",
       "</table>\n",
       "</div>"
      ],
      "text/plain": [
       "                 city                 date   fare        ride_id  \\\n",
       "0  Lake Jonathanshire  2019-01-14 10:14:22 $13.83  5739410935873   \n",
       "1  South Michelleport  2019-03-04 18:24:09 $30.24  2343912425577   \n",
       "2  Port Samanthamouth  2019-02-24 04:29:00 $33.44  2005065760003   \n",
       "3          Rodneyfort  2019-02-10 23:22:03 $23.44  5149245426178   \n",
       "4          South Jack  2019-03-06 04:28:35 $34.58  3908451377344   \n",
       "\n",
       "   driver_count   type  \n",
       "0             5  Urban  \n",
       "1            72  Urban  \n",
       "2            57  Urban  \n",
       "3            34  Urban  \n",
       "4            46  Urban  "
      ]
     },
     "execution_count": 11,
     "metadata": {},
     "output_type": "execute_result"
    }
   ],
   "source": [
    "# Print the merged DataFrame for reference.\n",
    "pyber_data_df = pd.merge(ride_df, city_df, how=\"left\", on=[\"city\", \"city\"])\n",
    "pyber_data_df.head()"
   ]
  },
  {
   "cell_type": "code",
   "execution_count": 12,
   "metadata": {},
   "outputs": [
    {
     "name": "stderr",
     "output_type": "stream",
     "text": [
      "C:\\Users\\Admin\\AppData\\Local\\Temp\\ipykernel_13760\\2170621432.py:4: FutureWarning: The default value of numeric_only in DataFrameGroupBy.sum is deprecated. In a future version, numeric_only will default to False. Either specify numeric_only or select only columns which should be valid for the function.\n",
      "  newdf = pyber_data_df.groupby(['type', 'date']).sum()[['fare']]\n"
     ]
    }
   ],
   "source": [
    "# 1. Using groupby() to create a new DataFrame showing the sum of the fares \n",
    "#  for each date where the indices are the city type and date.\n",
    "\n",
    "newdf = pyber_data_df.groupby(['type', 'date']).sum()[['fare']]\n",
    "\n"
   ]
  },
  {
   "cell_type": "code",
   "execution_count": 13,
   "metadata": {},
   "outputs": [],
   "source": [
    "# 2. Reset the index on the DataFrame you created in #1. This is needed to use the 'pivot()' function.\n",
    "# df = df.reset_index()\n",
    "newdf = newdf.reset_index()"
   ]
  },
  {
   "cell_type": "code",
   "execution_count": 14,
   "metadata": {},
   "outputs": [],
   "source": [
    "# 3. Create a pivot table with the 'date' as the index, the columns ='type', and values='fare' \n",
    "# to get the total fares for each type of city by the date. \n",
    "newdf_pivot = newdf.pivot(index = 'date', columns = 'type', values = 'fare')"
   ]
  },
  {
   "cell_type": "code",
   "execution_count": 15,
   "metadata": {},
   "outputs": [
    {
     "name": "stdout",
     "output_type": "stream",
     "text": [
      "type                 Rural  Suburban  Urban\n",
      "date                                       \n",
      "2019-01-01 00:08:16    NaN       NaN $37.91\n",
      "2019-01-01 00:46:46    NaN    $47.74    NaN\n",
      "2019-01-01 02:07:24    NaN    $24.07    NaN\n",
      "2019-01-01 03:46:50    NaN       NaN  $7.57\n",
      "2019-01-01 05:23:21    NaN       NaN $10.75\n",
      "...                    ...       ...    ...\n",
      "2019-04-27 17:58:27 $14.01       NaN    NaN\n",
      "2019-04-27 19:45:48    NaN    $28.84    NaN\n",
      "2019-04-27 20:41:36    NaN       NaN  $8.28\n",
      "2019-04-27 23:26:03    NaN       NaN $19.06\n",
      "2019-04-27 23:52:44    NaN    $45.98    NaN\n",
      "\n",
      "[2177 rows x 3 columns]\n"
     ]
    }
   ],
   "source": [
    "# 4. Create a new DataFrame from the pivot table DataFrame using loc on the given dates, '2019-01-01':'2019-04-28'.\n",
    "newdf_pivot_reshaped = newdf_pivot.loc['2019-01-01':'2019-04-28']\n",
    "print(newdf_pivot_reshaped)\n"
   ]
  },
  {
   "cell_type": "code",
   "execution_count": 16,
   "metadata": {},
   "outputs": [],
   "source": [
    "# 5. Set the \"date\" index to datetime datatype. This is necessary to use the resample() method in Step 8.\n",
    "# df.index = pd.to_datetime(df.index)\n",
    "\n",
    "newdf_pivot_reshaped.index = pd.to_datetime(newdf_pivot_reshaped.index)"
   ]
  },
  {
   "cell_type": "code",
   "execution_count": 17,
   "metadata": {},
   "outputs": [
    {
     "name": "stdout",
     "output_type": "stream",
     "text": [
      "<class 'pandas.core.frame.DataFrame'>\n",
      "DatetimeIndex: 2177 entries, 2019-01-01 00:08:16 to 2019-04-27 23:52:44\n",
      "Data columns (total 3 columns):\n",
      " #   Column    Non-Null Count  Dtype  \n",
      "---  ------    --------------  -----  \n",
      " 0   Rural     114 non-null    float64\n",
      " 1   Suburban  567 non-null    float64\n",
      " 2   Urban     1496 non-null   float64\n",
      "dtypes: float64(3)\n",
      "memory usage: 68.0 KB\n"
     ]
    }
   ],
   "source": [
    "# 6. Check that the datatype for the index is datetime using df.info()\n",
    "newdf_pivot_reshaped.info()"
   ]
  },
  {
   "cell_type": "code",
   "execution_count": 18,
   "metadata": {},
   "outputs": [
    {
     "name": "stdout",
     "output_type": "stream",
     "text": [
      "type                     Rural           Suburban                Urban\n",
      "date                                                                  \n",
      "2019-01-06             $187.92             $721.6            $1,661.68\n",
      "2019-01-13              $67.65          $1,105.13            $2,050.43\n",
      "2019-01-20              $306.0           $1,218.2            $1,939.02\n",
      "2019-01-27             $179.69          $1,203.28 $2,129.5099999999998\n",
      "2019-02-03             $333.08          $1,042.79            $2,086.94\n",
      "2019-02-10 $115.80000000000001            $974.34            $2,162.64\n",
      "2019-02-17              $95.82           $1,045.5            $2,235.07\n",
      "2019-02-24             $419.06          $1,412.74            $2,466.29\n",
      "2019-03-03             $175.14            $858.46             $2,218.2\n",
      "2019-03-10             $303.94            $925.27            $2,470.93\n",
      "2019-03-17             $163.39             $906.2            $2,044.42\n",
      "2019-03-24             $189.76           $1,122.2            $2,368.37\n",
      "2019-03-31             $199.42          $1,045.06            $1,942.77\n",
      "2019-04-07             $501.24          $1,010.73             $2,356.7\n",
      "2019-04-14             $269.79 $784.8199999999999            $2,390.72\n",
      "2019-04-21             $214.14          $1,149.27             $2,303.8\n",
      "2019-04-28             $191.85          $1,169.04            $1,909.51\n"
     ]
    }
   ],
   "source": [
    "# 7. Create a new DataFrame using the \"resample()\" function by week 'W' and get the sum of the fares for each week.\n",
    "byweek = newdf_pivot_reshaped.resample('W').sum()\n",
    "print(byweek)"
   ]
  },
  {
   "cell_type": "code",
   "execution_count": 21,
   "metadata": {},
   "outputs": [
    {
     "data": {
      "text/plain": [
       "<AxesSubplot: title={'center': 'Total Fare by City Type'}, xlabel='Month', ylabel='Fare ($USD)'>"
      ]
     },
     "execution_count": 21,
     "metadata": {},
     "output_type": "execute_result"
    },
    {
     "data": {
      "image/png": "[encoded data removed]",
      "text/plain": [
       "<Figure size 640x480 with 1 Axes>"
      ]
     },
     "metadata": {},
     "output_type": "display_data"
    }
   ],
   "source": [
    "# 8. Using the object-oriented interface method, plot the resample DataFrame using the df.plot() function. \n",
    "\n",
    "# Import the style from Matplotlib.\n",
    "from matplotlib import style\n",
    "# Use the graph style fivethirtyeight.\n",
    "style.use('fivethirtyeight')\n",
    "byweek.plot(ylabel=\"Fare ($USD)\", title = \"Total Fare by City Type\",xlabel=\"Month\")\n",
    "\n",
    "\n"
   ]
  },
  {
   "cell_type": "code",
   "execution_count": null,
   "metadata": {},
   "outputs": [],
   "source": []
  }
 ],
 "metadata": {
  "anaconda-cloud": {},
  "kernelspec": {
   "display_name": "Python 3",
   "language": "python",
   "name": "python3"
  },
  "language_info": {
   "codemirror_mode": {
    "name": "ipython",
    "version": 3
   },
   "file_extension": ".py",
   "mimetype": "text/x-python",
   "name": "python",
   "nbconvert_exporter": "python",
   "pygments_lexer": "ipython3",
   "version": "3.10.9"
  },
  "vscode": {
   "interpreter": {
    "hash": "58dbfdb34cf82127b32c5737e6183911655ff227e5c11e8f5e4b25048ae98ef2"
   }
  }
 },
 "nbformat": 4,
 "nbformat_minor": 2
}
